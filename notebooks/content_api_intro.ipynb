{
  "cells": [
    {
      "cell_type": "markdown",
      "metadata": {
        "id": "qABZ345y7ZsH"
      },
      "source": [
        "# Processors `Content` API"
      ]
    },
    {
      "cell_type": "markdown",
      "metadata": {
        "id": "VJC4EkEW7Ykq"
      },
      "source": [
        "## Imports"
      ]
    },
    {
      "cell_type": "code",
      "execution_count": null,
      "metadata": {
        "id": "xvo_1zhk7Dqy"
      },
      "outputs": [],
      "source": [
        "from genai_processors import content_api\n",
        "from genai_processors import core\n",
        "from genai_processors import processor\n",
        "from genai_processors import utils\n",
        "from google.genai import types as genai_types\n",
        "from IPython.display import display\n",
        "\n",
        "GenaiModel = core.genai_model.GenaiModel\n",
        "\n",
        "Part = genai_types.Part\n",
        "ProcessorPart = content_api.ProcessorPart\n",
        "ProcessorContent = content_api.ProcessorContent\n",
        "\n",
        "as_text = content_api.as_text\n",
        "\n",
        "API_KEY = 'your-api-key'"
      ]
    },
    {
      "cell_type": "markdown",
      "metadata": {
        "id": "cOV59h957_tW"
      },
      "source": [
        "## Generate Genai `Content` \u0026 constituent `Part` objects"
      ]
    },
    {
      "cell_type": "markdown",
      "metadata": {
        "id": "kF4oeWHJznYh"
      },
      "source": [
        "### Sync"
      ]
    },
    {
      "cell_type": "code",
      "execution_count": null,
      "metadata": {
        "id": "nNlivCYf8DX8"
      },
      "outputs": [],
      "source": [
        "EXAMPLE_PARTS = []\n",
        "\n",
        "INPUT_PROMPT = (\n",
        "    'Create an image of two dalmatians, one with brown spots \u0026 one with black'\n",
        "    ' spots, frolicking in their London garden. Please also provide a cute'\n",
        "    ' description formatted as pithy bulletpoints'\n",
        ")\n",
        "\n",
        "p = GenaiModel(\n",
        "    api_key=API_KEY,\n",
        "    model_name='gemini-2.0-flash-exp-image-generation',\n",
        "    generate_content_config=genai_types.GenerateContentConfig(\n",
        "        response_modalities=['Text', 'Image']\n",
        "    ),\n",
        ")\n",
        "\n",
        "genai_content = processor.apply_sync(p, [INPUT_PROMPT])\n",
        "\n",
        "for part in genai_content:\n",
        "  if content_api.is_text(part.mimetype):\n",
        "    print(part.text)\n",
        "  elif part.pil_image:\n",
        "    display(part.pil_image)\n",
        "  EXAMPLE_PARTS.append(part)"
      ]
    },
    {
      "cell_type": "markdown",
      "metadata": {
        "id": "3AWq6R8szpJe"
      },
      "source": [
        "### Async"
      ]
    },
    {
      "cell_type": "code",
      "execution_count": null,
      "metadata": {
        "id": "uuvanjw6yH5a"
      },
      "outputs": [],
      "source": [
        "p = GenaiModel(\n",
        "    api_key=API_KEY,\n",
        "    model_name=\"gemini-2.0-flash-exp-image-generation\",\n",
        "    generate_content_config=genai_types.GenerateContentConfig(\n",
        "        response_modalities=[\"Text\", \"Image\"]\n",
        "    ),\n",
        ")\n",
        "\n",
        "input_stream = utils.stream_content([INPUT_PROMPT])\n",
        "async for part in p(input_stream):\n",
        "  if content_api.is_text(part.mimetype):\n",
        "    print(part.text)\n",
        "  elif part.pil_image:\n",
        "    display(part.pil_image)"
      ]
    },
    {
      "cell_type": "markdown",
      "metadata": {
        "id": "XYRYT8xC7hF7"
      },
      "source": [
        "## `ProcessorPart`"
      ]
    },
    {
      "cell_type": "markdown",
      "metadata": {
        "id": "KGSeZIx_-ZPr"
      },
      "source": [
        "### Construct `ProcessorPart` from string\n"
      ]
    },
    {
      "cell_type": "code",
      "execution_count": null,
      "metadata": {
        "id": "7FSCYxbdGH6d"
      },
      "outputs": [],
      "source": [
        "p = ProcessorPart(\"Hello World!\", substream_name=\"hello_world\")\n",
        "print(p)"
      ]
    },
    {
      "cell_type": "markdown",
      "metadata": {
        "id": "IVc1iTPoGDmu"
      },
      "source": [
        "### Construct `ProcessorPart` from genai `Part`\n"
      ]
    },
    {
      "cell_type": "code",
      "execution_count": null,
      "metadata": {
        "id": "jhz6ta5V-cO1"
      },
      "outputs": [],
      "source": [
        "p = ProcessorPart(EXAMPLE_PARTS[2], substream_name='some_substream')\n",
        "print(p)\n",
        "print('---')\n",
        "print(f'Text: {p.text}')\n",
        "print('---')\n",
        "print(f'MIME: {p.mimetype}')\n",
        "print('---')\n",
        "print(f'Substream: {p.substream_name}')"
      ]
    },
    {
      "cell_type": "markdown",
      "metadata": {
        "id": "YoNBwNE67mYE"
      },
      "source": [
        "### Construct list of `ProcessorPart` objects from genai `Part` objects\n",
        "\n",
        "\n"
      ]
    },
    {
      "cell_type": "code",
      "execution_count": null,
      "metadata": {
        "id": "EivittiV782U"
      },
      "outputs": [],
      "source": [
        "processor_parts = [ProcessorPart(p) for p in EXAMPLE_PARTS]\n",
        "\n",
        "for p in processor_parts:\n",
        "  print(p)"
      ]
    },
    {
      "cell_type": "markdown",
      "metadata": {
        "id": "0H9_jw0Q_Yz_"
      },
      "source": [
        "### Construct copy of `ProcessorPart` using `ProcessorPart`"
      ]
    },
    {
      "cell_type": "code",
      "execution_count": null,
      "metadata": {
        "id": "KpJ0vrm-_bkO"
      },
      "outputs": [],
      "source": [
        "part = Part(text=\"Hello World!\")\n",
        "p1 = ProcessorPart(EXAMPLE_PARTS[1], substream_name=\"text\")\n",
        "p2 = ProcessorPart(p1)"
      ]
    },
    {
      "cell_type": "code",
      "execution_count": null,
      "metadata": {
        "id": "iNSsiJJl_fzB"
      },
      "outputs": [],
      "source": [
        "p1 == p2"
      ]
    },
    {
      "cell_type": "markdown",
      "metadata": {
        "id": "7bU9qA2mBBl6"
      },
      "source": [
        "### Construct copy of `ProcessorPart`, overwriting the substream_name and custom_metadata"
      ]
    },
    {
      "cell_type": "code",
      "execution_count": null,
      "metadata": {
        "id": "ZUVhr7bpA69x"
      },
      "outputs": [],
      "source": [
        "p1 = ProcessorPart(\n",
        "    part, substream_name=\"step 1\", custom_metadata={\"foo\": \"bar\"}\n",
        ")\n",
        "p2 = ProcessorPart(\n",
        "    p1, substream_name=\"step 2\", custom_metadata={\"bar\": \"yankee\"}\n",
        ")"
      ]
    },
    {
      "cell_type": "code",
      "execution_count": null,
      "metadata": {
        "id": "s1yjfxyBBMu8"
      },
      "outputs": [],
      "source": [
        "p1 == p2"
      ]
    },
    {
      "cell_type": "code",
      "execution_count": null,
      "metadata": {
        "id": "Drn_ET7-BNtX"
      },
      "outputs": [],
      "source": [
        "print(p1)\n",
        "print(p2)"
      ]
    },
    {
      "cell_type": "markdown",
      "metadata": {
        "id": "8hR-4VHkBv2c"
      },
      "source": [
        "## `ProcessorContent`"
      ]
    },
    {
      "cell_type": "markdown",
      "metadata": {
        "id": "LHz_ShGMCAwy"
      },
      "source": [
        "### Construct `ProcessorContent` from genai `Part`"
      ]
    },
    {
      "cell_type": "code",
      "execution_count": null,
      "metadata": {
        "id": "CI-17X7NCCmr"
      },
      "outputs": [],
      "source": [
        "part = Part(text=\"Hello World!\")\n",
        "\n",
        "c = ProcessorContent(part)\n",
        "print(c)"
      ]
    },
    {
      "cell_type": "code",
      "execution_count": null,
      "metadata": {
        "id": "OFRg_8rSNkAI"
      },
      "outputs": [],
      "source": [
        "for p in c.all_parts:\n",
        "  print(p)"
      ]
    },
    {
      "cell_type": "code",
      "execution_count": null,
      "metadata": {
        "id": "R9rsg__bOPAt"
      },
      "outputs": [],
      "source": [
        "for i in c.items():\n",
        "  print(i)"
      ]
    },
    {
      "cell_type": "code",
      "execution_count": null,
      "metadata": {
        "id": "3Kb3A2w9OGTb"
      },
      "outputs": [],
      "source": [
        "print(as_text(c))"
      ]
    },
    {
      "cell_type": "markdown",
      "metadata": {
        "id": "ZyWJxPAoE_iP"
      },
      "source": [
        "### Construct `ProcessorContent` from genai `Part` objects"
      ]
    },
    {
      "cell_type": "code",
      "execution_count": null,
      "metadata": {
        "id": "-DVzsY_bFBSL"
      },
      "outputs": [],
      "source": [
        "c = ProcessorContent(EXAMPLE_PARTS)\n",
        "print(c)\n",
        "\n",
        "for p in c.all_parts:\n",
        "  print(p)"
      ]
    },
    {
      "cell_type": "code",
      "execution_count": null,
      "metadata": {
        "id": "2smrXEtaPcU-"
      },
      "outputs": [],
      "source": [
        "print(as_text(c))"
      ]
    },
    {
      "cell_type": "markdown",
      "metadata": {
        "id": "nVtSHu-PMozV"
      },
      "source": [
        "### Construct ProcessorContent from another ProcessorContent object\n",
        "\n"
      ]
    },
    {
      "cell_type": "code",
      "execution_count": null,
      "metadata": {
        "id": "CsIzl2_LMn2X"
      },
      "outputs": [],
      "source": [
        "part = Part(text='Hello World!')\n",
        "\n",
        "c1 = ProcessorContent(part)\n",
        "print('c1: ', c1)\n",
        "\n",
        "c2 = ProcessorContent(c1)\n",
        "print('c2: ', c2)"
      ]
    }
  ],
  "metadata": {
    "colab": {
      "last_runtime": {
        "build_target": "",
        "kind": "local"
      },
      "private_outputs": true,
      "provenance": [
        {
          "file_id": "1OsaTR6fZwYkLSzjjVAWyFUDYNVkJQs2D",
          "timestamp": 1743469082836
        },
        {
          "file_id": "1nPCZWSex6YMDln9a00jv1ZinyUETqZfI",
          "timestamp": 1743007845412
        }
      ],
      "toc_visible": true
    },
    "kernelspec": {
      "display_name": "Python 3",
      "name": "python3"
    },
    "language_info": {
      "name": "python"
    }
  },
  "nbformat": 4,
  "nbformat_minor": 0
}
